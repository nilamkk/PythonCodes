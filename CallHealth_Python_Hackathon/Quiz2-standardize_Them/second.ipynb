{
 "cells": [
  {
   "cell_type": "markdown",
   "metadata": {},
   "source": [
    "# Second here "
   ]
  },
  {
   "cell_type": "code",
   "execution_count": 112,
   "metadata": {},
   "outputs": [],
   "source": [
    "#importing libraries\n",
    "\n",
    "import pandas as pd"
   ]
  },
  {
   "cell_type": "code",
   "execution_count": 113,
   "metadata": {},
   "outputs": [],
   "source": [
    "# reading the files\n",
    "\n",
    "student_scores=pd.read_csv('student_scores.csv')"
   ]
  },
  {
   "cell_type": "code",
   "execution_count": 114,
   "metadata": {},
   "outputs": [
    {
     "data": {
      "text/html": [
       "<div>\n",
       "<style scoped>\n",
       "    .dataframe tbody tr th:only-of-type {\n",
       "        vertical-align: middle;\n",
       "    }\n",
       "\n",
       "    .dataframe tbody tr th {\n",
       "        vertical-align: top;\n",
       "    }\n",
       "\n",
       "    .dataframe thead th {\n",
       "        text-align: right;\n",
       "    }\n",
       "</style>\n",
       "<table border=\"1\" class=\"dataframe\">\n",
       "  <thead>\n",
       "    <tr style=\"text-align: right;\">\n",
       "      <th></th>\n",
       "      <th>id</th>\n",
       "      <th>email</th>\n",
       "      <th>mobile</th>\n",
       "      <th>name</th>\n",
       "      <th>marks</th>\n",
       "    </tr>\n",
       "  </thead>\n",
       "  <tbody>\n",
       "    <tr>\n",
       "      <td>0</td>\n",
       "      <td>110201</td>\n",
       "      <td>aadi.jain@tcs.com</td>\n",
       "      <td>9000900901</td>\n",
       "      <td>aadi</td>\n",
       "      <td>75.0</td>\n",
       "    </tr>\n",
       "    <tr>\n",
       "      <td>1</td>\n",
       "      <td>110202</td>\n",
       "      <td>aak_17yad@yahoo.co.in</td>\n",
       "      <td>9000900902</td>\n",
       "      <td>aak_17yad</td>\n",
       "      <td>75.0</td>\n",
       "    </tr>\n",
       "    <tr>\n",
       "      <td>2</td>\n",
       "      <td>110203</td>\n",
       "      <td>aakashrshah@rediffmail.com</td>\n",
       "      <td>9000900903</td>\n",
       "      <td>aakashrshah</td>\n",
       "      <td>76.0</td>\n",
       "    </tr>\n",
       "    <tr>\n",
       "      <td>3</td>\n",
       "      <td>110204</td>\n",
       "      <td>aakashzy@gmail.com</td>\n",
       "      <td>9000900904</td>\n",
       "      <td>aakashzy</td>\n",
       "      <td>77.0</td>\n",
       "    </tr>\n",
       "    <tr>\n",
       "      <td>4</td>\n",
       "      <td>110205</td>\n",
       "      <td>aaleya15@yahoo.com</td>\n",
       "      <td>9000900905</td>\n",
       "      <td>aaleya15</td>\n",
       "      <td>75.0</td>\n",
       "    </tr>\n",
       "  </tbody>\n",
       "</table>\n",
       "</div>"
      ],
      "text/plain": [
       "       id                       email      mobile         name  marks\n",
       "0  110201           aadi.jain@tcs.com  9000900901         aadi   75.0\n",
       "1  110202       aak_17yad@yahoo.co.in  9000900902    aak_17yad   75.0\n",
       "2  110203  aakashrshah@rediffmail.com  9000900903  aakashrshah   76.0\n",
       "3  110204          aakashzy@gmail.com  9000900904     aakashzy   77.0\n",
       "4  110205          aaleya15@yahoo.com  9000900905     aaleya15   75.0"
      ]
     },
     "execution_count": 114,
     "metadata": {},
     "output_type": "execute_result"
    }
   ],
   "source": [
    "# showing the data frame\n",
    "\n",
    "student_scores.head()"
   ]
  },
  {
   "cell_type": "code",
   "execution_count": 115,
   "metadata": {},
   "outputs": [],
   "source": [
    "# function to create tags \n",
    "\n",
    "def fillTag(x):\n",
    "    newTag=[]\n",
    "    for i in x.marks:\n",
    "        if(i>85):\n",
    "            newTag.append('merit')\n",
    "        elif (i>78):\n",
    "            newTag.append('passed')\n",
    "        else:\n",
    "            newTag.append('failed')\n",
    "    return newTag"
   ]
  },
  {
   "cell_type": "code",
   "execution_count": 116,
   "metadata": {},
   "outputs": [],
   "source": [
    "# creating tags\n",
    "\n",
    "student_scores=student_scores.assign(tag=fillTag)"
   ]
  },
  {
   "cell_type": "code",
   "execution_count": 117,
   "metadata": {},
   "outputs": [
    {
     "data": {
      "text/html": [
       "<div>\n",
       "<style scoped>\n",
       "    .dataframe tbody tr th:only-of-type {\n",
       "        vertical-align: middle;\n",
       "    }\n",
       "\n",
       "    .dataframe tbody tr th {\n",
       "        vertical-align: top;\n",
       "    }\n",
       "\n",
       "    .dataframe thead th {\n",
       "        text-align: right;\n",
       "    }\n",
       "</style>\n",
       "<table border=\"1\" class=\"dataframe\">\n",
       "  <thead>\n",
       "    <tr style=\"text-align: right;\">\n",
       "      <th></th>\n",
       "      <th>id</th>\n",
       "      <th>email</th>\n",
       "      <th>mobile</th>\n",
       "      <th>name</th>\n",
       "      <th>marks</th>\n",
       "      <th>tag</th>\n",
       "    </tr>\n",
       "  </thead>\n",
       "  <tbody>\n",
       "    <tr>\n",
       "      <td>0</td>\n",
       "      <td>110201</td>\n",
       "      <td>aadi.jain@tcs.com</td>\n",
       "      <td>9000900901</td>\n",
       "      <td>aadi</td>\n",
       "      <td>75.0</td>\n",
       "      <td>failed</td>\n",
       "    </tr>\n",
       "    <tr>\n",
       "      <td>1</td>\n",
       "      <td>110202</td>\n",
       "      <td>aak_17yad@yahoo.co.in</td>\n",
       "      <td>9000900902</td>\n",
       "      <td>aak_17yad</td>\n",
       "      <td>75.0</td>\n",
       "      <td>failed</td>\n",
       "    </tr>\n",
       "    <tr>\n",
       "      <td>2</td>\n",
       "      <td>110203</td>\n",
       "      <td>aakashrshah@rediffmail.com</td>\n",
       "      <td>9000900903</td>\n",
       "      <td>aakashrshah</td>\n",
       "      <td>76.0</td>\n",
       "      <td>failed</td>\n",
       "    </tr>\n",
       "    <tr>\n",
       "      <td>3</td>\n",
       "      <td>110204</td>\n",
       "      <td>aakashzy@gmail.com</td>\n",
       "      <td>9000900904</td>\n",
       "      <td>aakashzy</td>\n",
       "      <td>77.0</td>\n",
       "      <td>failed</td>\n",
       "    </tr>\n",
       "    <tr>\n",
       "      <td>4</td>\n",
       "      <td>110205</td>\n",
       "      <td>aaleya15@yahoo.com</td>\n",
       "      <td>9000900905</td>\n",
       "      <td>aaleya15</td>\n",
       "      <td>75.0</td>\n",
       "      <td>failed</td>\n",
       "    </tr>\n",
       "  </tbody>\n",
       "</table>\n",
       "</div>"
      ],
      "text/plain": [
       "       id                       email      mobile         name  marks     tag\n",
       "0  110201           aadi.jain@tcs.com  9000900901         aadi   75.0  failed\n",
       "1  110202       aak_17yad@yahoo.co.in  9000900902    aak_17yad   75.0  failed\n",
       "2  110203  aakashrshah@rediffmail.com  9000900903  aakashrshah   76.0  failed\n",
       "3  110204          aakashzy@gmail.com  9000900904     aakashzy   77.0  failed\n",
       "4  110205          aaleya15@yahoo.com  9000900905     aaleya15   75.0  failed"
      ]
     },
     "execution_count": 117,
     "metadata": {},
     "output_type": "execute_result"
    }
   ],
   "source": [
    "# after creating tags\n",
    "\n",
    "student_scores.head()"
   ]
  },
  {
   "cell_type": "code",
   "execution_count": 118,
   "metadata": {},
   "outputs": [],
   "source": [
    "# saving it as result.csv\n",
    "\n",
    "student_scores.to_csv('result.csv',index=False)"
   ]
  }
 ],
 "metadata": {
  "kernelspec": {
   "display_name": "Python 3",
   "language": "python",
   "name": "python3"
  },
  "language_info": {
   "codemirror_mode": {
    "name": "ipython",
    "version": 3
   },
   "file_extension": ".py",
   "mimetype": "text/x-python",
   "name": "python",
   "nbconvert_exporter": "python",
   "pygments_lexer": "ipython3",
   "version": "3.7.4"
  }
 },
 "nbformat": 4,
 "nbformat_minor": 2
}
