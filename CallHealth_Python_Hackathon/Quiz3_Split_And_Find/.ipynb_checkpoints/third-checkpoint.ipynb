{
 "cells": [
  {
   "cell_type": "code",
   "execution_count": 68,
   "metadata": {},
   "outputs": [],
   "source": [
    "#importing libraries\n",
    "\n",
    "import pandas as pd"
   ]
  },
  {
   "cell_type": "code",
   "execution_count": 69,
   "metadata": {},
   "outputs": [],
   "source": [
    "# reading the files\n",
    "\n",
    "database=pd.read_csv('database.csv')"
   ]
  },
  {
   "cell_type": "code",
   "execution_count": 70,
   "metadata": {},
   "outputs": [],
   "source": [
    "# creating dict for quick look up\n",
    "\n",
    "dict={}\n",
    "\n",
    "for i in database.email:\n",
    "    word=i.split('@')\n",
    "    dict[word[0]]=(word[1])\n"
   ]
  },
  {
   "cell_type": "code",
   "execution_count": 71,
   "metadata": {},
   "outputs": [
    {
     "name": "stdout",
     "output_type": "stream",
     "text": [
      "write2som yadamsuresh zen_sas yasiricon yssram yugaandher ynigam y.thulasiram yadusuri wilsonraoannie "
     ]
    }
   ],
   "source": [
    "# reading users from users10.txt\n",
    "\n",
    "fileRead=open('users10.txt',\"r\")\n",
    "\n",
    "\n",
    "users= [i.strip() for i in fileRead.readlines()]\n",
    "\n",
    "for i in users:\n",
    "    print(i,end=\" \")\n",
    "\n",
    "fileRead.close()\n"
   ]
  },
  {
   "cell_type": "code",
   "execution_count": 72,
   "metadata": {},
   "outputs": [],
   "source": [
    "# creating the list to be written in the output file\n",
    "\n",
    "listFinal=[]\n",
    "\n",
    "for i in users:\n",
    "    try:\n",
    "        listFinal.append({i:\"\".join([i,'@',dict[i]])})\n",
    "    except KeyError:\n",
    "        print(i, ' not found')"
   ]
  },
  {
   "cell_type": "code",
   "execution_count": 73,
   "metadata": {},
   "outputs": [
    {
     "data": {
      "text/plain": [
       "[{'write2som': 'write2som@gmail.com'},\n",
       " {'yadamsuresh': 'yadamsuresh@gmail.com'},\n",
       " {'zen_sas': 'zen_sas@hotmail.com'},\n",
       " {'yasiricon': 'yasiricon@gmail.com'},\n",
       " {'yssram': 'yssram@gmail.com'},\n",
       " {'yugaandher': 'yugaandher@gmail.com'},\n",
       " {'ynigam': 'ynigam@gmail.com'},\n",
       " {'y.thulasiram': 'y.thulasiram@gmail.com'},\n",
       " {'yadusuri': 'yadusuri@gmail.com'},\n",
       " {'wilsonraoannie': 'wilsonraoannie@yahoo.co.in'}]"
      ]
     },
     "execution_count": 73,
     "metadata": {},
     "output_type": "execute_result"
    }
   ],
   "source": [
    "# list to write\n",
    "\n",
    "listFinal"
   ]
  },
  {
   "cell_type": "code",
   "execution_count": 74,
   "metadata": {},
   "outputs": [],
   "source": [
    "# writing the list to result.txt\n",
    "\n",
    "file1=open(\"result.txt\",\"w\")\n",
    "\n",
    "l=str(listFinal)\n",
    "\n",
    "file1.write(l)\n",
    "\n",
    "file1.close()"
   ]
  },
  {
   "cell_type": "code",
   "execution_count": null,
   "metadata": {},
   "outputs": [],
   "source": []
  },
  {
   "cell_type": "code",
   "execution_count": null,
   "metadata": {},
   "outputs": [],
   "source": []
  }
 ],
 "metadata": {
  "kernelspec": {
   "display_name": "Python 3",
   "language": "python",
   "name": "python3"
  },
  "language_info": {
   "codemirror_mode": {
    "name": "ipython",
    "version": 3
   },
   "file_extension": ".py",
   "mimetype": "text/x-python",
   "name": "python",
   "nbconvert_exporter": "python",
   "pygments_lexer": "ipython3",
   "version": "3.7.4"
  }
 },
 "nbformat": 4,
 "nbformat_minor": 2
}
