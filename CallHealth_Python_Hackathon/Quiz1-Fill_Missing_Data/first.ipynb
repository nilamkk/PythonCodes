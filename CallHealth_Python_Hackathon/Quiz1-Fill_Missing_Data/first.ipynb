{
 "cells": [
  {
   "cell_type": "code",
   "execution_count": 141,
   "metadata": {},
   "outputs": [],
   "source": [
    "#importing libraries\n",
    "\n",
    "import pandas as pd"
   ]
  },
  {
   "cell_type": "code",
   "execution_count": 142,
   "metadata": {},
   "outputs": [],
   "source": [
    "# reading the files\n",
    "\n",
    "missing_data=pd.read_csv('missing_emails.csv')\n",
    "database_data=pd.read_csv('database.csv')"
   ]
  },
  {
   "cell_type": "code",
   "execution_count": 143,
   "metadata": {},
   "outputs": [
    {
     "data": {
      "text/html": [
       "<div>\n",
       "<style scoped>\n",
       "    .dataframe tbody tr th:only-of-type {\n",
       "        vertical-align: middle;\n",
       "    }\n",
       "\n",
       "    .dataframe tbody tr th {\n",
       "        vertical-align: top;\n",
       "    }\n",
       "\n",
       "    .dataframe thead th {\n",
       "        text-align: right;\n",
       "    }\n",
       "</style>\n",
       "<table border=\"1\" class=\"dataframe\">\n",
       "  <thead>\n",
       "    <tr style=\"text-align: right;\">\n",
       "      <th></th>\n",
       "      <th>id</th>\n",
       "      <th>email</th>\n",
       "      <th>name</th>\n",
       "    </tr>\n",
       "  </thead>\n",
       "  <tbody>\n",
       "    <tr>\n",
       "      <td>0</td>\n",
       "      <td>110201</td>\n",
       "      <td>aadi.jain@tcs.com</td>\n",
       "      <td>aadi</td>\n",
       "    </tr>\n",
       "    <tr>\n",
       "      <td>1</td>\n",
       "      <td>110202</td>\n",
       "      <td>aak_17yad@yahoo.co.in</td>\n",
       "      <td>aak_17yad</td>\n",
       "    </tr>\n",
       "    <tr>\n",
       "      <td>2</td>\n",
       "      <td>110203</td>\n",
       "      <td>aakashrshah@rediffmail.com</td>\n",
       "      <td>aakashrshah</td>\n",
       "    </tr>\n",
       "    <tr>\n",
       "      <td>3</td>\n",
       "      <td>110204</td>\n",
       "      <td>aakashzy@gmail.com</td>\n",
       "      <td>aakashzy</td>\n",
       "    </tr>\n",
       "    <tr>\n",
       "      <td>4</td>\n",
       "      <td>110205</td>\n",
       "      <td>aaleya15@yahoo.com</td>\n",
       "      <td>aaleya15</td>\n",
       "    </tr>\n",
       "  </tbody>\n",
       "</table>\n",
       "</div>"
      ],
      "text/plain": [
       "       id                       email         name\n",
       "0  110201           aadi.jain@tcs.com         aadi\n",
       "1  110202       aak_17yad@yahoo.co.in    aak_17yad\n",
       "2  110203  aakashrshah@rediffmail.com  aakashrshah\n",
       "3  110204          aakashzy@gmail.com     aakashzy\n",
       "4  110205          aaleya15@yahoo.com     aaleya15"
      ]
     },
     "execution_count": 143,
     "metadata": {},
     "output_type": "execute_result"
    }
   ],
   "source": [
    "# showing the data frame\n",
    "\n",
    "missing_data.head()"
   ]
  },
  {
   "cell_type": "code",
   "execution_count": 144,
   "metadata": {},
   "outputs": [
    {
     "data": {
      "text/html": [
       "<div>\n",
       "<style scoped>\n",
       "    .dataframe tbody tr th:only-of-type {\n",
       "        vertical-align: middle;\n",
       "    }\n",
       "\n",
       "    .dataframe tbody tr th {\n",
       "        vertical-align: top;\n",
       "    }\n",
       "\n",
       "    .dataframe thead th {\n",
       "        text-align: right;\n",
       "    }\n",
       "</style>\n",
       "<table border=\"1\" class=\"dataframe\">\n",
       "  <thead>\n",
       "    <tr style=\"text-align: right;\">\n",
       "      <th></th>\n",
       "      <th>id</th>\n",
       "      <th>email</th>\n",
       "      <th>mobile</th>\n",
       "      <th>name</th>\n",
       "    </tr>\n",
       "  </thead>\n",
       "  <tbody>\n",
       "    <tr>\n",
       "      <td>0</td>\n",
       "      <td>110201</td>\n",
       "      <td>aadi.jain@tcs.com</td>\n",
       "      <td>9000900901</td>\n",
       "      <td>aadi</td>\n",
       "    </tr>\n",
       "    <tr>\n",
       "      <td>1</td>\n",
       "      <td>110202</td>\n",
       "      <td>aak_17yad@yahoo.co.in</td>\n",
       "      <td>9000900902</td>\n",
       "      <td>aak_17yad</td>\n",
       "    </tr>\n",
       "    <tr>\n",
       "      <td>2</td>\n",
       "      <td>110203</td>\n",
       "      <td>aakashrshah@rediffmail.com</td>\n",
       "      <td>9000900903</td>\n",
       "      <td>aakashrshah</td>\n",
       "    </tr>\n",
       "    <tr>\n",
       "      <td>3</td>\n",
       "      <td>110204</td>\n",
       "      <td>aakashzy@gmail.com</td>\n",
       "      <td>9000900904</td>\n",
       "      <td>aakashzy</td>\n",
       "    </tr>\n",
       "    <tr>\n",
       "      <td>4</td>\n",
       "      <td>110205</td>\n",
       "      <td>aaleya15@yahoo.com</td>\n",
       "      <td>9000900905</td>\n",
       "      <td>aaleya15</td>\n",
       "    </tr>\n",
       "  </tbody>\n",
       "</table>\n",
       "</div>"
      ],
      "text/plain": [
       "       id                       email      mobile         name\n",
       "0  110201           aadi.jain@tcs.com  9000900901         aadi\n",
       "1  110202       aak_17yad@yahoo.co.in  9000900902    aak_17yad\n",
       "2  110203  aakashrshah@rediffmail.com  9000900903  aakashrshah\n",
       "3  110204          aakashzy@gmail.com  9000900904     aakashzy\n",
       "4  110205          aaleya15@yahoo.com  9000900905     aaleya15"
      ]
     },
     "execution_count": 144,
     "metadata": {},
     "output_type": "execute_result"
    }
   ],
   "source": [
    "# showing the data frame\n",
    "\n",
    "database_data.head()"
   ]
  },
  {
   "cell_type": "code",
   "execution_count": 145,
   "metadata": {},
   "outputs": [],
   "source": [
    "# setting indices for quick look up \n",
    "database_data_with_index=database_data.set_index(['id'])"
   ]
  },
  {
   "cell_type": "code",
   "execution_count": 146,
   "metadata": {},
   "outputs": [],
   "source": [
    "# function to fill up nulls\n",
    "\n",
    "def fillNulls(x):\n",
    "    if(pd.isnull(x.email)):\n",
    "        x.email=database_data_with_index.loc[x.id].email #after setting index in database\n",
    "    return x"
   ]
  },
  {
   "cell_type": "code",
   "execution_count": 147,
   "metadata": {},
   "outputs": [],
   "source": [
    "# applying that function to the data frame\n",
    "\n",
    "missing_data=missing_data.apply(fillNulls,axis=1)"
   ]
  },
  {
   "cell_type": "code",
   "execution_count": 148,
   "metadata": {},
   "outputs": [],
   "source": [
    "# saving the output to result.csv\n",
    "\n",
    "missing_data.to_csv('result.csv',index=False)"
   ]
  },
  {
   "cell_type": "code",
   "execution_count": null,
   "metadata": {},
   "outputs": [],
   "source": []
  }
 ],
 "metadata": {
  "kernelspec": {
   "display_name": "Python 3",
   "language": "python",
   "name": "python3"
  },
  "language_info": {
   "codemirror_mode": {
    "name": "ipython",
    "version": 3
   },
   "file_extension": ".py",
   "mimetype": "text/x-python",
   "name": "python",
   "nbconvert_exporter": "python",
   "pygments_lexer": "ipython3",
   "version": "3.7.4"
  }
 },
 "nbformat": 4,
 "nbformat_minor": 2
}
